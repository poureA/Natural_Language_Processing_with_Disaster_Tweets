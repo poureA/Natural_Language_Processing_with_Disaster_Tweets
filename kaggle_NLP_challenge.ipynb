{
 "cells": [
  {
   "cell_type": "markdown",
   "id": "0b4b41b0",
   "metadata": {},
   "source": [
    "a solution for: https://www.kaggle.com/competitions/nlp-getting-started/overview"
   ]
  },
  {
   "cell_type": "code",
   "execution_count": null,
   "id": "2923b2c7",
   "metadata": {},
   "outputs": [],
   "source": [
    "from pandas import read_csv , DataFrame\n",
    "from numpy import array\n",
    "from matplotlib.pyplot import plot , xlabel , ylabel , title , show\n",
    "from tensorflow.keras import layers , models\n",
    "from tensorflow.keras.preprocessing.text import Tokenizer\n",
    "from tensorflow.keras.preprocessing.sequence import pad_sequences\n",
    "from tensorflow.keras.callbacks import Callback\n",
    "from sklearn.metrics import accuracy_score\n",
    "encoder = Tokenizer(oov_token='<00U00>')"
   ]
  },
  {
   "cell_type": "code",
   "execution_count": 154,
   "id": "ef23dae8",
   "metadata": {},
   "outputs": [
    {
     "name": "stdout",
     "output_type": "stream",
     "text": [
      "<class 'pandas.core.frame.DataFrame'>\n",
      "RangeIndex: 7613 entries, 0 to 7612\n",
      "Data columns (total 5 columns):\n",
      " #   Column    Non-Null Count  Dtype \n",
      "---  ------    --------------  ----- \n",
      " 0   id        7613 non-null   int64 \n",
      " 1   keyword   7552 non-null   object\n",
      " 2   location  5080 non-null   object\n",
      " 3   text      7613 non-null   object\n",
      " 4   target    7613 non-null   int64 \n",
      "dtypes: int64(2), object(3)\n",
      "memory usage: 297.5+ KB\n"
     ]
    }
   ],
   "source": [
    "path_tr = \"D:\\\\datasets\\\\nlp-getting-started\\\\train.csv\"\n",
    "path_ts = \"D:\\\\datasets\\\\nlp-getting-started\\\\test.csv\"\n",
    "path_sub = \"D:\\\\datasets\\\\nlp-getting-started\\\\sample_submission.csv\"\n",
    "file_tr = read_csv(path_tr)\n",
    "file_ts = read_csv(path_ts)\n",
    "file_sub = read_csv(path_sub)\n",
    "file_tr.info()"
   ]
  },
  {
   "cell_type": "code",
   "execution_count": 155,
   "id": "d3c4692b",
   "metadata": {},
   "outputs": [
    {
     "name": "stdout",
     "output_type": "stream",
     "text": [
      "<class 'pandas.core.frame.DataFrame'>\n",
      "RangeIndex: 3263 entries, 0 to 3262\n",
      "Data columns (total 4 columns):\n",
      " #   Column    Non-Null Count  Dtype \n",
      "---  ------    --------------  ----- \n",
      " 0   id        3263 non-null   int64 \n",
      " 1   keyword   3237 non-null   object\n",
      " 2   location  2158 non-null   object\n",
      " 3   text      3263 non-null   object\n",
      "dtypes: int64(1), object(3)\n",
      "memory usage: 102.1+ KB\n"
     ]
    }
   ],
   "source": [
    "file_ts.info()"
   ]
  },
  {
   "cell_type": "code",
   "execution_count": 156,
   "id": "8ff19a29",
   "metadata": {},
   "outputs": [
    {
     "name": "stdout",
     "output_type": "stream",
     "text": [
      "<class 'pandas.core.frame.DataFrame'>\n",
      "RangeIndex: 3263 entries, 0 to 3262\n",
      "Data columns (total 2 columns):\n",
      " #   Column  Non-Null Count  Dtype\n",
      "---  ------  --------------  -----\n",
      " 0   id      3263 non-null   int64\n",
      " 1   target  3263 non-null   int64\n",
      "dtypes: int64(2)\n",
      "memory usage: 51.1 KB\n"
     ]
    }
   ],
   "source": [
    "file_sub.info()"
   ]
  },
  {
   "cell_type": "code",
   "execution_count": 157,
   "id": "6f8220b2",
   "metadata": {},
   "outputs": [],
   "source": [
    "#Creating a function to remove stop words from each text .\n",
    "def Filter(text)->str:\n",
    "    '''function docstring'''\n",
    "    stopwords = [\"a\", \"about\", \"above\", \"after\", \"again\", \"against\", \"all\", \"am\", \"an\", \"and\", \"any\", \"are\", \"as\", \"at\", \"be\", \"because\", \"been\", \"before\", \"being\", \"below\", \"between\", \"both\", \"but\", \"by\", \"could\", \"did\", \"do\", \"does\", \"doing\", \"down\", \"during\", \"each\", \"few\", \"for\", \"from\", \"further\", \"had\", \"has\", \"have\", \"having\", \"he\", \"he'd\", \"he'll\", \"he's\", \"her\", \"here\", \"here's\", \"hers\", \"herself\", \"him\", \"himself\", \"his\", \"how\", \"how's\", \"i\", \"i'd\", \"i'll\", \"i'm\", \"i've\", \"if\", \"in\", \"into\", \"is\", \"it\", \"it's\", \"its\", \"itself\", \"let's\", \"me\", \"more\", \"most\", \"my\", \"myself\", \"nor\", \"of\", \"on\", \"once\", \"only\", \"or\", \"other\", \"ought\", \"our\", \"ours\", \"ourselves\", \"out\", \"over\", \"own\", \"same\", \"she\", \"she'd\", \"she'll\", \"she's\", \"should\", \"so\", \"some\", \"such\", \"than\", \"that\", \"that's\", \"the\", \"their\", \"theirs\", \"them\", \"themselves\", \"then\", \"there\", \"there's\", \"these\", \"they\", \"they'd\", \"they'll\", \"they're\", \"they've\", \"this\", \"those\", \"through\", \"to\", \"too\", \"under\", \"until\", \"up\", \"very\", \"was\", \"we\", \"we'd\", \"we'll\", \"we're\", \"we've\", \"were\", \"what\", \"what's\", \"when\", \"when's\", \"where\", \"where's\", \"which\", \"while\", \"who\", \"who's\", \"whom\", \"why\", \"why's\", \"with\", \"would\", \"you\", \"you'd\", \"you'll\", \"you're\", \"you've\", \"your\", \"yours\", \"yourself\", \"yourselves\" ]\n",
    "    result = [word for word in text.lower().split() if word not in stopwords]\n",
    "    return ' '.join(result)"
   ]
  },
  {
   "cell_type": "code",
   "execution_count": 158,
   "id": "3e47b936",
   "metadata": {},
   "outputs": [],
   "source": [
    "lbl = file_tr.target\n",
    "lbl_test = file_sub.target\n",
    "texts = file_tr.text\n",
    "test_texts = file_ts.text"
   ]
  },
  {
   "cell_type": "code",
   "execution_count": 159,
   "id": "ac267d5c",
   "metadata": {},
   "outputs": [
    {
     "name": "stdout",
     "output_type": "stream",
     "text": [
      "Maxlen :16\n"
     ]
    }
   ],
   "source": [
    "mxlen = int(input('Maxlen :'))\n",
    "encoder.fit_on_texts(texts)\n",
    "sequences = encoder.texts_to_sequences(texts)\n",
    "matrix_train = pad_sequences(sequences,padding='post',truncating='post',maxlen=mxlen)"
   ]
  },
  {
   "cell_type": "code",
   "execution_count": 160,
   "id": "d8314de9",
   "metadata": {},
   "outputs": [
    {
     "data": {
      "text/plain": [
       "(7613, 16)"
      ]
     },
     "execution_count": 160,
     "metadata": {},
     "output_type": "execute_result"
    }
   ],
   "source": [
    "matrix_train.shape"
   ]
  },
  {
   "cell_type": "code",
   "execution_count": 161,
   "id": "a8457aa5",
   "metadata": {},
   "outputs": [],
   "source": [
    "def Create_model()->None:\n",
    "    '''function docstring'''\n",
    "    model = models.Sequential([layers.Embedding(len(encoder.word_index)+1,2,input_length=mxlen),\n",
    "                               layers.Flatten(),\n",
    "                               layers.Dense(1,activation='relu')])\n",
    "    model.compile(optimizer='rmsprop',\n",
    "                  loss='Huber',\n",
    "                  metrics=['accuracy'])\n",
    "    return model"
   ]
  },
  {
   "cell_type": "code",
   "execution_count": 162,
   "id": "1c77754f",
   "metadata": {},
   "outputs": [],
   "source": [
    "class Stop_it(Callback) :\n",
    "    def on_epoch_end(self,epoch,log={}) :\n",
    "        if (log.get('accuracy')>0.985) :\n",
    "            print(f'\\nAcuuracy is greater than 98.5%, so cancelling training...')\n",
    "            self.model.stop_training = True"
   ]
  },
  {
   "cell_type": "code",
   "execution_count": 163,
   "id": "dd73c9cd",
   "metadata": {},
   "outputs": [
    {
     "name": "stdout",
     "output_type": "stream",
     "text": [
      "Epoch 1/100\n",
      "  1/238 [..............................] - ETA: 1:31 - loss: 0.2419 - accuracy: 0.5000WARNING:tensorflow:Callback method `on_train_batch_end` is slow compared to the batch time (batch time: 0.0007s vs `on_train_batch_end` time: 0.0017s). Check your callbacks.\n",
      "238/238 [==============================] - 1s 1ms/step - loss: 0.1619 - accuracy: 0.5719\n",
      "Epoch 2/100\n",
      "238/238 [==============================] - 0s 805us/step - loss: 0.1114 - accuracy: 0.6438\n",
      "Epoch 3/100\n",
      "238/238 [==============================] - 0s 809us/step - loss: 0.0886 - accuracy: 0.7502\n",
      "Epoch 4/100\n",
      "238/238 [==============================] - 0s 802us/step - loss: 0.0726 - accuracy: 0.8149\n",
      "Epoch 5/100\n",
      "238/238 [==============================] - 0s 804us/step - loss: 0.0614 - accuracy: 0.8464\n",
      "Epoch 6/100\n",
      "238/238 [==============================] - 0s 773us/step - loss: 0.0531 - accuracy: 0.8694\n",
      "Epoch 7/100\n",
      "238/238 [==============================] - 0s 821us/step - loss: 0.0467 - accuracy: 0.8848\n",
      "Epoch 8/100\n",
      "238/238 [==============================] - 0s 798us/step - loss: 0.0414 - accuracy: 0.9010\n",
      "Epoch 9/100\n",
      "238/238 [==============================] - 0s 869us/step - loss: 0.0370 - accuracy: 0.9141\n",
      "Epoch 10/100\n",
      "238/238 [==============================] - 0s 742us/step - loss: 0.0333 - accuracy: 0.9205\n",
      "Epoch 11/100\n",
      "238/238 [==============================] - 0s 815us/step - loss: 0.0299 - accuracy: 0.9274\n",
      "Epoch 12/100\n",
      "238/238 [==============================] - 0s 804us/step - loss: 0.0269 - accuracy: 0.9387\n",
      "Epoch 13/100\n",
      "238/238 [==============================] - 0s 846us/step - loss: 0.0243 - accuracy: 0.9460\n",
      "Epoch 14/100\n",
      "238/238 [==============================] - 0s 810us/step - loss: 0.0221 - accuracy: 0.9517\n",
      "Epoch 15/100\n",
      "238/238 [==============================] - 0s 816us/step - loss: 0.0201 - accuracy: 0.9564\n",
      "Epoch 16/100\n",
      "238/238 [==============================] - 0s 815us/step - loss: 0.0184 - accuracy: 0.9606\n",
      "Epoch 17/100\n",
      "238/238 [==============================] - 0s 820us/step - loss: 0.0169 - accuracy: 0.9631\n",
      "Epoch 18/100\n",
      "238/238 [==============================] - 0s 827us/step - loss: 0.0156 - accuracy: 0.9653\n",
      "Epoch 19/100\n",
      "238/238 [==============================] - 0s 791us/step - loss: 0.0144 - accuracy: 0.9691\n",
      "Epoch 20/100\n",
      "238/238 [==============================] - 0s 803us/step - loss: 0.0133 - accuracy: 0.9707\n",
      "Epoch 21/100\n",
      "238/238 [==============================] - 0s 820us/step - loss: 0.0124 - accuracy: 0.9735\n",
      "Epoch 22/100\n",
      "238/238 [==============================] - 0s 1ms/step - loss: 0.0116 - accuracy: 0.9750\n",
      "Epoch 23/100\n",
      "238/238 [==============================] - 0s 1ms/step - loss: 0.0110 - accuracy: 0.9765\n",
      "Epoch 24/100\n",
      "238/238 [==============================] - 0s 982us/step - loss: 0.0104 - accuracy: 0.9774\n",
      "Epoch 25/100\n",
      "238/238 [==============================] - 0s 878us/step - loss: 0.0098 - accuracy: 0.9792\n",
      "Epoch 26/100\n",
      "238/238 [==============================] - 0s 882us/step - loss: 0.0094 - accuracy: 0.9795\n",
      "Epoch 27/100\n",
      "238/238 [==============================] - 0s 938us/step - loss: 0.0090 - accuracy: 0.9802\n",
      "Epoch 28/100\n",
      "238/238 [==============================] - 0s 915us/step - loss: 0.0085 - accuracy: 0.9812\n",
      "Epoch 29/100\n",
      "238/238 [==============================] - 0s 952us/step - loss: 0.0082 - accuracy: 0.9817\n",
      "Epoch 30/100\n",
      "238/238 [==============================] - 0s 900us/step - loss: 0.0080 - accuracy: 0.9825\n",
      "Epoch 31/100\n",
      "238/238 [==============================] - 0s 861us/step - loss: 0.0077 - accuracy: 0.9841\n",
      "Epoch 32/100\n",
      "238/238 [==============================] - 0s 919us/step - loss: 0.0075 - accuracy: 0.9837\n",
      "Epoch 33/100\n",
      "238/238 [==============================] - 0s 828us/step - loss: 0.0073 - accuracy: 0.9838\n",
      "Epoch 34/100\n",
      "238/238 [==============================] - 0s 860us/step - loss: 0.0071 - accuracy: 0.9841\n",
      "Epoch 35/100\n",
      "207/238 [=========================>....] - ETA: 0s - loss: 0.0071 - accuracy: 0.9849\n",
      "Acuuracy is greater than 98.5%, so cancelling training...\n",
      "238/238 [==============================] - 0s 841us/step - loss: 0.0070 - accuracy: 0.9850\n"
     ]
    }
   ],
   "source": [
    "call = Stop_it()\n",
    "history = Create_model().fit(matrix_train,lbl,epochs=100,callbacks=call)"
   ]
  },
  {
   "cell_type": "code",
   "execution_count": 164,
   "id": "1c3f0868",
   "metadata": {},
   "outputs": [
    {
     "data": {
      "image/png": "[encoded data removed]",
      "text/plain": [
       "<Figure size 640x480 with 1 Axes>"
      ]
     },
     "metadata": {},
     "output_type": "display_data"
    },
    {
     "data": {
      "image/png": "[encoded data removed]",
      "text/plain": [
       "<Figure size 640x480 with 1 Axes>"
      ]
     },
     "metadata": {},
     "output_type": "display_data"
    }
   ],
   "source": [
    "result = history.history\n",
    "x = range(1,len(history.epoch)+1)\n",
    "y = result['accuracy']\n",
    "plot(x,y,'blue')\n",
    "xlabel('Epochs')\n",
    "ylabel('Acuuracy')\n",
    "title('Breast_Tumor_3_classes')\n",
    "show()\n",
    "#Visualize models performance on loss.\n",
    "x = range(1,len(history.epoch)+1)\n",
    "y = result['loss']\n",
    "plot(x,y,'blue')\n",
    "xlabel('Epochs')\n",
    "ylabel('Loss')\n",
    "title('Breast_Tumor_3_classes')\n",
    "show()"
   ]
  },
  {
   "cell_type": "code",
   "execution_count": 165,
   "id": "b1541113",
   "metadata": {},
   "outputs": [],
   "source": [
    "def Prepare_test(test_data):\n",
    "    export = list()\n",
    "    for note in test_data :\n",
    "        temp = []\n",
    "        for word in note.split() :\n",
    "            if word in encoder.word_index.keys() :\n",
    "                temp.append(encoder.word_index[word])\n",
    "        mtrx = pad_sequences([temp],padding='post',truncating='post',maxlen=16).tolist()\n",
    "        export.append(mtrx)\n",
    "    return export"
   ]
  },
  {
   "cell_type": "code",
   "execution_count": 166,
   "id": "76bfddc4",
   "metadata": {},
   "outputs": [
    {
     "data": {
      "text/plain": [
       "(3263, 16)"
      ]
     },
     "execution_count": 166,
     "metadata": {},
     "output_type": "execute_result"
    }
   ],
   "source": [
    "test_matrix = array(Prepare_test(test_texts))\n",
    "finall_test = test_matrix.reshape(len(test_texts),mxlen)\n",
    "finall_test.shape"
   ]
  },
  {
   "cell_type": "code",
   "execution_count": 167,
   "id": "2f8f2768",
   "metadata": {},
   "outputs": [
    {
     "name": "stdout",
     "output_type": "stream",
     "text": [
      "102/102 [==============================] - 0s 800us/step\n"
     ]
    }
   ],
   "source": [
    "preds = Create_model().predict(finall_test)"
   ]
  },
  {
   "cell_type": "code",
   "execution_count": 168,
   "id": "d94aff02",
   "metadata": {},
   "outputs": [],
   "source": [
    "preds_class = list()\n",
    "for i in preds :\n",
    "    if i[0]>=0.5 :\n",
    "        preds_class.append(1)\n",
    "    else :\n",
    "        preds_class.append(0)"
   ]
  },
  {
   "cell_type": "code",
   "execution_count": 169,
   "id": "a895b01c",
   "metadata": {},
   "outputs": [
    {
     "data": {
      "text/plain": [
       "100.0"
      ]
     },
     "execution_count": 169,
     "metadata": {},
     "output_type": "execute_result"
    }
   ],
   "source": [
    "accuracy_score(lbl_test.to_list(),preds_class)*100"
   ]
  },
  {
   "cell_type": "code",
   "execution_count": 170,
   "id": "9215113e",
   "metadata": {},
   "outputs": [],
   "source": [
    "ID = file_sub.id.to_list()\n",
    "preds_df = DataFrame([(ID[i],preds_class[i]) for i in range(len(preds_class))],columns=['id','target'])"
   ]
  },
  {
   "cell_type": "code",
   "execution_count": 171,
   "id": "5864536f",
   "metadata": {},
   "outputs": [
    {
     "data": {
      "text/html": [
       "<div>\n",
       "<style scoped>\n",
       "    .dataframe tbody tr th:only-of-type {\n",
       "        vertical-align: middle;\n",
       "    }\n",
       "\n",
       "    .dataframe tbody tr th {\n",
       "        vertical-align: top;\n",
       "    }\n",
       "\n",
       "    .dataframe thead th {\n",
       "        text-align: right;\n",
       "    }\n",
       "</style>\n",
       "<table border=\"1\" class=\"dataframe\">\n",
       "  <thead>\n",
       "    <tr style=\"text-align: right;\">\n",
       "      <th></th>\n",
       "      <th>id</th>\n",
       "      <th>target</th>\n",
       "    </tr>\n",
       "  </thead>\n",
       "  <tbody>\n",
       "    <tr>\n",
       "      <th>0</th>\n",
       "      <td>0</td>\n",
       "      <td>0</td>\n",
       "    </tr>\n",
       "    <tr>\n",
       "      <th>1</th>\n",
       "      <td>2</td>\n",
       "      <td>0</td>\n",
       "    </tr>\n",
       "    <tr>\n",
       "      <th>2</th>\n",
       "      <td>3</td>\n",
       "      <td>0</td>\n",
       "    </tr>\n",
       "    <tr>\n",
       "      <th>3</th>\n",
       "      <td>9</td>\n",
       "      <td>0</td>\n",
       "    </tr>\n",
       "    <tr>\n",
       "      <th>4</th>\n",
       "      <td>11</td>\n",
       "      <td>0</td>\n",
       "    </tr>\n",
       "  </tbody>\n",
       "</table>\n",
       "</div>"
      ],
      "text/plain": [
       "   id  target\n",
       "0   0       0\n",
       "1   2       0\n",
       "2   3       0\n",
       "3   9       0\n",
       "4  11       0"
      ]
     },
     "execution_count": 171,
     "metadata": {},
     "output_type": "execute_result"
    }
   ],
   "source": [
    "preds_df.head()"
   ]
  },
  {
   "cell_type": "code",
   "execution_count": 172,
   "id": "4c5a6415",
   "metadata": {},
   "outputs": [
    {
     "name": "stdout",
     "output_type": "stream",
     "text": [
      "Enter export path:D:\\\\datasets\\\\nlp-getting-started\\\\Result.csv\n"
     ]
    }
   ],
   "source": [
    "export_path = input('Enter export path:')\n",
    "preds_df.to_csv(export_path,index=False)"
   ]
  },
  {
   "cell_type": "code",
   "execution_count": null,
   "id": "1ed8950d",
   "metadata": {},
   "outputs": [],
   "source": []
  }
 ],
 "metadata": {
  "kernelspec": {
   "display_name": "Python 3 (ipykernel)",
   "language": "python",
   "name": "python3"
  },
  "language_info": {
   "codemirror_mode": {
    "name": "ipython",
    "version": 3
   },
   "file_extension": ".py",
   "mimetype": "text/x-python",
   "name": "python",
   "nbconvert_exporter": "python",
   "pygments_lexer": "ipython3",
   "version": "3.9.13"
  }
 },
 "nbformat": 4,
 "nbformat_minor": 5
}
