{
 "cells": [
  {
   "cell_type": "markdown",
   "id": "0b4b41b0",
   "metadata": {},
   "source": [
    "a solution for: https://www.kaggle.com/competitions/nlp-getting-started/overview"
   ]
  },
  {
   "cell_type": "code",
   "execution_count": 224,
   "id": "2923b2c7",
   "metadata": {},
   "outputs": [],
   "source": [
    "from pandas import read_csv , DataFrame\n",
    "from numpy import array\n",
    "from matplotlib.pyplot import plot , xlabel , ylabel , title , show\n",
    "from tensorflow.keras import layers , models\n",
    "from tensorflow.keras.preprocessing.text import Tokenizer\n",
    "from tensorflow.keras.preprocessing.sequence import pad_sequences\n",
    "from tensorflow.keras.callbacks import Callback\n",
    "from sklearn.metrics import accuracy_score\n",
    "encoder = Tokenizer(oov_token='<00U00>')"
   ]
  },
  {
   "cell_type": "code",
   "execution_count": 225,
   "id": "ef23dae8",
   "metadata": {},
   "outputs": [
    {
     "name": "stdout",
     "output_type": "stream",
     "text": [
      "<class 'pandas.core.frame.DataFrame'>\n",
      "RangeIndex: 7613 entries, 0 to 7612\n",
      "Data columns (total 5 columns):\n",
      " #   Column    Non-Null Count  Dtype \n",
      "---  ------    --------------  ----- \n",
      " 0   id        7613 non-null   int64 \n",
      " 1   keyword   7552 non-null   object\n",
      " 2   location  5080 non-null   object\n",
      " 3   text      7613 non-null   object\n",
      " 4   target    7613 non-null   int64 \n",
      "dtypes: int64(2), object(3)\n",
      "memory usage: 297.5+ KB\n"
     ]
    }
   ],
   "source": [
    "path_tr = \"D:\\\\datasets\\\\nlp-getting-started\\\\train.csv\"\n",
    "path_ts = \"D:\\\\datasets\\\\nlp-getting-started\\\\test.csv\"\n",
    "path_sub = \"D:\\\\datasets\\\\nlp-getting-started\\\\sample_submission.csv\"\n",
    "file_tr = read_csv(path_tr)\n",
    "file_ts = read_csv(path_ts)\n",
    "file_sub = read_csv(path_sub)\n",
    "file_tr.info()"
   ]
  },
  {
   "cell_type": "code",
   "execution_count": 226,
   "id": "d3c4692b",
   "metadata": {},
   "outputs": [
    {
     "name": "stdout",
     "output_type": "stream",
     "text": [
      "<class 'pandas.core.frame.DataFrame'>\n",
      "RangeIndex: 3263 entries, 0 to 3262\n",
      "Data columns (total 4 columns):\n",
      " #   Column    Non-Null Count  Dtype \n",
      "---  ------    --------------  ----- \n",
      " 0   id        3263 non-null   int64 \n",
      " 1   keyword   3237 non-null   object\n",
      " 2   location  2158 non-null   object\n",
      " 3   text      3263 non-null   object\n",
      "dtypes: int64(1), object(3)\n",
      "memory usage: 102.1+ KB\n"
     ]
    }
   ],
   "source": [
    "file_ts.info()"
   ]
  },
  {
   "cell_type": "code",
   "execution_count": 227,
   "id": "8ff19a29",
   "metadata": {},
   "outputs": [
    {
     "name": "stdout",
     "output_type": "stream",
     "text": [
      "<class 'pandas.core.frame.DataFrame'>\n",
      "RangeIndex: 3263 entries, 0 to 3262\n",
      "Data columns (total 2 columns):\n",
      " #   Column  Non-Null Count  Dtype\n",
      "---  ------  --------------  -----\n",
      " 0   id      3263 non-null   int64\n",
      " 1   target  3263 non-null   int64\n",
      "dtypes: int64(2)\n",
      "memory usage: 51.1 KB\n"
     ]
    }
   ],
   "source": [
    "file_sub.info()"
   ]
  },
  {
   "cell_type": "code",
   "execution_count": 228,
   "id": "6f8220b2",
   "metadata": {},
   "outputs": [],
   "source": [
    "#Creating a function to remove stop words from each text .\n",
    "def Filter(text)->str:\n",
    "    '''function docstring'''\n",
    "    stopwords = [\"a\", \"about\", \"above\", \"after\", \"again\", \"against\", \"all\", \"am\", \"an\", \"and\", \"any\", \"are\", \"as\", \"at\", \"be\", \"because\", \"been\", \"before\", \"being\", \"below\", \"between\", \"both\", \"but\", \"by\", \"could\", \"did\", \"do\", \"does\", \"doing\", \"down\", \"during\", \"each\", \"few\", \"for\", \"from\", \"further\", \"had\", \"has\", \"have\", \"having\", \"he\", \"he'd\", \"he'll\", \"he's\", \"her\", \"here\", \"here's\", \"hers\", \"herself\", \"him\", \"himself\", \"his\", \"how\", \"how's\", \"i\", \"i'd\", \"i'll\", \"i'm\", \"i've\", \"if\", \"in\", \"into\", \"is\", \"it\", \"it's\", \"its\", \"itself\", \"let's\", \"me\", \"more\", \"most\", \"my\", \"myself\", \"nor\", \"of\", \"on\", \"once\", \"only\", \"or\", \"other\", \"ought\", \"our\", \"ours\", \"ourselves\", \"out\", \"over\", \"own\", \"same\", \"she\", \"she'd\", \"she'll\", \"she's\", \"should\", \"so\", \"some\", \"such\", \"than\", \"that\", \"that's\", \"the\", \"their\", \"theirs\", \"them\", \"themselves\", \"then\", \"there\", \"there's\", \"these\", \"they\", \"they'd\", \"they'll\", \"they're\", \"they've\", \"this\", \"those\", \"through\", \"to\", \"too\", \"under\", \"until\", \"up\", \"very\", \"was\", \"we\", \"we'd\", \"we'll\", \"we're\", \"we've\", \"were\", \"what\", \"what's\", \"when\", \"when's\", \"where\", \"where's\", \"which\", \"while\", \"who\", \"who's\", \"whom\", \"why\", \"why's\", \"with\", \"would\", \"you\", \"you'd\", \"you'll\", \"you're\", \"you've\", \"your\", \"yours\", \"yourself\", \"yourselves\" ]\n",
    "    result = [word for word in text.lower().split() if word not in stopwords]\n",
    "    return ' '.join(result)"
   ]
  },
  {
   "cell_type": "code",
   "execution_count": 229,
   "id": "3e47b936",
   "metadata": {},
   "outputs": [],
   "source": [
    "lbl = file_tr.target\n",
    "lbl_test = file_sub.target\n",
    "texts = file_tr.text\n",
    "test_texts = file_ts.text"
   ]
  },
  {
   "cell_type": "code",
   "execution_count": 230,
   "id": "ac267d5c",
   "metadata": {},
   "outputs": [
    {
     "name": "stdout",
     "output_type": "stream",
     "text": [
      "Maxlen :16\n"
     ]
    }
   ],
   "source": [
    "mxlen = int(input('Maxlen :'))\n",
    "encoder.fit_on_texts(texts)\n",
    "sequences = encoder.texts_to_sequences(texts)\n",
    "matrix_train = pad_sequences(sequences,padding='post',truncating='post',maxlen=mxlen)"
   ]
  },
  {
   "cell_type": "code",
   "execution_count": 231,
   "id": "d8314de9",
   "metadata": {},
   "outputs": [
    {
     "data": {
      "text/plain": [
       "(7613, 16)"
      ]
     },
     "execution_count": 231,
     "metadata": {},
     "output_type": "execute_result"
    }
   ],
   "source": [
    "matrix_train.shape"
   ]
  },
  {
   "cell_type": "code",
   "execution_count": 232,
   "id": "a8457aa5",
   "metadata": {},
   "outputs": [],
   "source": [
    "def Create_model()->None:\n",
    "    '''function docstring'''\n",
    "    model = models.Sequential([layers.Embedding(len(encoder.word_index)+1,2,input_length=mxlen),\n",
    "                               layers.Flatten(),\n",
    "                               layers.Dense(1,activation='relu')])\n",
    "    model.compile(optimizer='rmsprop',\n",
    "                  loss='Huber',\n",
    "                  metrics=['accuracy'])\n",
    "    return model"
   ]
  },
  {
   "cell_type": "code",
   "execution_count": 233,
   "id": "1c77754f",
   "metadata": {},
   "outputs": [],
   "source": [
    "class Stop_it(Callback) :\n",
    "    def on_epoch_end(self,epoch,log={}) :\n",
    "        if (log.get('accuracy')>0.985) :\n",
    "            print(f'\\nAcuuracy is greater than 98.5%, so cancelling training...')\n",
    "            self.model.stop_training = True"
   ]
  },
  {
   "cell_type": "code",
   "execution_count": 234,
   "id": "dd73c9cd",
   "metadata": {},
   "outputs": [
    {
     "name": "stdout",
     "output_type": "stream",
     "text": [
      "Epoch 1/100\n",
      "238/238 [==============================] - 0s 858us/step - loss: 0.1483 - accuracy: 0.5857\n",
      "Epoch 2/100\n",
      "238/238 [==============================] - 0s 1ms/step - loss: 0.0961 - accuracy: 0.7203\n",
      "Epoch 3/100\n",
      "238/238 [==============================] - 0s 919us/step - loss: 0.0768 - accuracy: 0.7993\n",
      "Epoch 4/100\n",
      "238/238 [==============================] - 0s 850us/step - loss: 0.0645 - accuracy: 0.8359\n",
      "Epoch 5/100\n",
      "238/238 [==============================] - 0s 769us/step - loss: 0.0561 - accuracy: 0.8598\n",
      "Epoch 6/100\n",
      "238/238 [==============================] - 0s 799us/step - loss: 0.0496 - accuracy: 0.8784\n",
      "Epoch 7/100\n",
      "238/238 [==============================] - 0s 837us/step - loss: 0.0443 - accuracy: 0.8907\n",
      "Epoch 8/100\n",
      "238/238 [==============================] - 0s 827us/step - loss: 0.0398 - accuracy: 0.9033\n",
      "Epoch 9/100\n",
      "238/238 [==============================] - 0s 844us/step - loss: 0.0358 - accuracy: 0.9134\n",
      "Epoch 10/100\n",
      "238/238 [==============================] - 0s 836us/step - loss: 0.0324 - accuracy: 0.9225\n",
      "Epoch 11/100\n",
      "238/238 [==============================] - 0s 829us/step - loss: 0.0293 - accuracy: 0.9305\n",
      "Epoch 12/100\n",
      "238/238 [==============================] - 0s 796us/step - loss: 0.0266 - accuracy: 0.9404\n",
      "Epoch 13/100\n",
      "238/238 [==============================] - 0s 816us/step - loss: 0.0241 - accuracy: 0.9454\n",
      "Epoch 14/100\n",
      "238/238 [==============================] - 0s 810us/step - loss: 0.0220 - accuracy: 0.9482\n",
      "Epoch 15/100\n",
      "238/238 [==============================] - 0s 788us/step - loss: 0.0201 - accuracy: 0.9523\n",
      "Epoch 16/100\n",
      "238/238 [==============================] - 0s 816us/step - loss: 0.0185 - accuracy: 0.9549\n",
      "Epoch 17/100\n",
      "238/238 [==============================] - 0s 883us/step - loss: 0.0170 - accuracy: 0.9593\n",
      "Epoch 18/100\n",
      "238/238 [==============================] - 0s 953us/step - loss: 0.0157 - accuracy: 0.9630\n",
      "Epoch 19/100\n",
      "238/238 [==============================] - 0s 909us/step - loss: 0.0145 - accuracy: 0.9666\n",
      "Epoch 20/100\n",
      "238/238 [==============================] - 0s 822us/step - loss: 0.0135 - accuracy: 0.9699\n",
      "Epoch 21/100\n",
      "238/238 [==============================] - 0s 831us/step - loss: 0.0126 - accuracy: 0.9702\n",
      "Epoch 22/100\n",
      "238/238 [==============================] - 0s 809us/step - loss: 0.0119 - accuracy: 0.9728\n",
      "Epoch 23/100\n",
      "238/238 [==============================] - 0s 779us/step - loss: 0.0112 - accuracy: 0.9737\n",
      "Epoch 24/100\n",
      "238/238 [==============================] - 0s 813us/step - loss: 0.0107 - accuracy: 0.9753\n",
      "Epoch 25/100\n",
      "238/238 [==============================] - 0s 790us/step - loss: 0.0101 - accuracy: 0.9771\n",
      "Epoch 26/100\n",
      "238/238 [==============================] - 0s 848us/step - loss: 0.0096 - accuracy: 0.9783\n",
      "Epoch 27/100\n",
      "238/238 [==============================] - 0s 912us/step - loss: 0.0092 - accuracy: 0.9796\n",
      "Epoch 28/100\n",
      "238/238 [==============================] - 0s 923us/step - loss: 0.0088 - accuracy: 0.9802\n",
      "Epoch 29/100\n",
      "238/238 [==============================] - 0s 911us/step - loss: 0.0084 - accuracy: 0.9815\n",
      "Epoch 30/100\n",
      "238/238 [==============================] - 0s 879us/step - loss: 0.0082 - accuracy: 0.9828\n",
      "Epoch 31/100\n",
      "238/238 [==============================] - 0s 910us/step - loss: 0.0079 - accuracy: 0.9831\n",
      "Epoch 32/100\n",
      "238/238 [==============================] - 0s 829us/step - loss: 0.0077 - accuracy: 0.9832\n",
      "Epoch 33/100\n",
      "238/238 [==============================] - 0s 779us/step - loss: 0.0075 - accuracy: 0.9844\n",
      "Epoch 34/100\n",
      "238/238 [==============================] - 0s 857us/step - loss: 0.0073 - accuracy: 0.9848\n",
      "Epoch 35/100\n",
      "238/238 [==============================] - 0s 871us/step - loss: 0.0071 - accuracy: 0.9848\n",
      "Epoch 36/100\n",
      "183/238 [======================>.......] - ETA: 0s - loss: 0.0069 - accuracy: 0.9851\n",
      "Acuuracy is greater than 98.5%, so cancelling training...\n",
      "238/238 [==============================] - 0s 849us/step - loss: 0.0070 - accuracy: 0.9852\n"
     ]
    }
   ],
   "source": [
    "call = Stop_it()\n",
    "history = Create_model().fit(matrix_train,lbl,epochs=100,callbacks=call)"
   ]
  },
  {
   "cell_type": "code",
   "execution_count": 235,
   "id": "1c3f0868",
   "metadata": {},
   "outputs": [
    {
     "data": {
      "image/png": "[encoded data removed]",
      "text/plain": [
       "<Figure size 640x480 with 1 Axes>"
      ]
     },
     "metadata": {},
     "output_type": "display_data"
    },
    {
     "data": {
      "image/png": "[encoded data removed]",
      "text/plain": [
       "<Figure size 640x480 with 1 Axes>"
      ]
     },
     "metadata": {},
     "output_type": "display_data"
    }
   ],
   "source": [
    "result = history.history\n",
    "x = range(1,len(history.epoch)+1)\n",
    "y = result['accuracy']\n",
    "plot(x,y,'blue')\n",
    "xlabel('Epochs')\n",
    "ylabel('Acuuracy')\n",
    "title('kaggle_NLP_challenge')\n",
    "show()\n",
    "#Visualize models performance on loss.\n",
    "x = range(1,len(history.epoch)+1)\n",
    "y = result['loss']\n",
    "plot(x,y,'blue')\n",
    "xlabel('Epochs')\n",
    "ylabel('Loss')\n",
    "title('kaggle_NLP_challenge')\n",
    "show()"
   ]
  },
  {
   "cell_type": "code",
   "execution_count": 236,
   "id": "b1541113",
   "metadata": {},
   "outputs": [],
   "source": [
    "def Prepare_test(test_data):\n",
    "    export = list()\n",
    "    for note in test_data :\n",
    "        temp = []\n",
    "        for word in note.split() :\n",
    "            if word in encoder.word_index.keys() :\n",
    "                temp.append(encoder.word_index[word])\n",
    "        mtrx = pad_sequences([temp],padding='post',truncating='post',maxlen=16).tolist()\n",
    "        export.append(mtrx)\n",
    "    return export"
   ]
  },
  {
   "cell_type": "code",
   "execution_count": 237,
   "id": "76bfddc4",
   "metadata": {},
   "outputs": [
    {
     "data": {
      "text/plain": [
       "(3263, 16)"
      ]
     },
     "execution_count": 237,
     "metadata": {},
     "output_type": "execute_result"
    }
   ],
   "source": [
    "test_matrix = array(Prepare_test(test_texts))\n",
    "finall_test = test_matrix.reshape(len(test_texts),mxlen)\n",
    "finall_test.shape"
   ]
  },
  {
   "cell_type": "code",
   "execution_count": 238,
   "id": "2f8f2768",
   "metadata": {},
   "outputs": [
    {
     "name": "stdout",
     "output_type": "stream",
     "text": [
      "102/102 [==============================] - 0s 677us/step\n"
     ]
    }
   ],
   "source": [
    "preds = Create_model().predict(finall_test)"
   ]
  },
  {
   "cell_type": "code",
   "execution_count": 239,
   "id": "d94aff02",
   "metadata": {},
   "outputs": [],
   "source": [
    "preds_class = list()\n",
    "for i in preds :\n",
    "    if i[0]>=0.5 :\n",
    "        preds_class.append(1)\n",
    "    else :\n",
    "        preds_class.append(0)"
   ]
  },
  {
   "cell_type": "code",
   "execution_count": 240,
   "id": "a895b01c",
   "metadata": {},
   "outputs": [
    {
     "data": {
      "text/plain": [
       "100.0"
      ]
     },
     "execution_count": 240,
     "metadata": {},
     "output_type": "execute_result"
    }
   ],
   "source": [
    "accuracy_score(lbl_test.to_list(),preds_class)*100"
   ]
  },
  {
   "cell_type": "code",
   "execution_count": 241,
   "id": "9215113e",
   "metadata": {},
   "outputs": [],
   "source": [
    "ID = file_sub.id.to_list()\n",
    "preds_df = DataFrame([(ID[i],preds_class[i]) for i in range(len(preds_class))],columns=['id','target'])"
   ]
  },
  {
   "cell_type": "code",
   "execution_count": 242,
   "id": "5864536f",
   "metadata": {},
   "outputs": [
    {
     "data": {
      "text/html": [
       "<div>\n",
       "<style scoped>\n",
       "    .dataframe tbody tr th:only-of-type {\n",
       "        vertical-align: middle;\n",
       "    }\n",
       "\n",
       "    .dataframe tbody tr th {\n",
       "        vertical-align: top;\n",
       "    }\n",
       "\n",
       "    .dataframe thead th {\n",
       "        text-align: right;\n",
       "    }\n",
       "</style>\n",
       "<table border=\"1\" class=\"dataframe\">\n",
       "  <thead>\n",
       "    <tr style=\"text-align: right;\">\n",
       "      <th></th>\n",
       "      <th>id</th>\n",
       "      <th>target</th>\n",
       "    </tr>\n",
       "  </thead>\n",
       "  <tbody>\n",
       "    <tr>\n",
       "      <th>0</th>\n",
       "      <td>0</td>\n",
       "      <td>0</td>\n",
       "    </tr>\n",
       "    <tr>\n",
       "      <th>1</th>\n",
       "      <td>2</td>\n",
       "      <td>0</td>\n",
       "    </tr>\n",
       "    <tr>\n",
       "      <th>2</th>\n",
       "      <td>3</td>\n",
       "      <td>0</td>\n",
       "    </tr>\n",
       "    <tr>\n",
       "      <th>3</th>\n",
       "      <td>9</td>\n",
       "      <td>0</td>\n",
       "    </tr>\n",
       "    <tr>\n",
       "      <th>4</th>\n",
       "      <td>11</td>\n",
       "      <td>0</td>\n",
       "    </tr>\n",
       "  </tbody>\n",
       "</table>\n",
       "</div>"
      ],
      "text/plain": [
       "   id  target\n",
       "0   0       0\n",
       "1   2       0\n",
       "2   3       0\n",
       "3   9       0\n",
       "4  11       0"
      ]
     },
     "execution_count": 242,
     "metadata": {},
     "output_type": "execute_result"
    }
   ],
   "source": [
    "preds_df.head()"
   ]
  },
  {
   "cell_type": "code",
   "execution_count": 244,
   "id": "4c5a6415",
   "metadata": {},
   "outputs": [
    {
     "name": "stdout",
     "output_type": "stream",
     "text": [
      "Enter export path:D:\\\\datasets\\\\nlp-getting-started\\\\Result.csv\n"
     ]
    }
   ],
   "source": [
    "export_path = input('Enter export path:')\n",
    "preds_df.to_csv(export_path,index=False)"
   ]
  },
  {
   "cell_type": "code",
   "execution_count": null,
   "id": "1ed8950d",
   "metadata": {},
   "outputs": [],
   "source": []
  }
 ],
 "metadata": {
  "kernelspec": {
   "display_name": "Python 3 (ipykernel)",
   "language": "python",
   "name": "python3"
  },
  "language_info": {
   "codemirror_mode": {
    "name": "ipython",
    "version": 3
   },
   "file_extension": ".py",
   "mimetype": "text/x-python",
   "name": "python",
   "nbconvert_exporter": "python",
   "pygments_lexer": "ipython3",
   "version": "3.9.13"
  }
 },
 "nbformat": 4,
 "nbformat_minor": 5
}
